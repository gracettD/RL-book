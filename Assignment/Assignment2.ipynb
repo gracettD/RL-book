{
 "cells": [
  {
   "cell_type": "markdown",
   "metadata": {},
   "source": [
    "#### Question 1 \n",
    "\n",
    "It's state space contains 100 states, including 99 nonterminal states and 1 terminal state, and 19 unattainable states and 81 attainable states. Each state is represented by a small square. Since the transition matrix is very sparse, we can use the map representation as:\n",
    "$$\n",
    "\\mathcal{N} \\rightarrow (\\mathcal{S} \\rightarrow [0,1]).\n",
    "$$\n",
    "The key is a nonterminal state, and each nonterminal state maps to a probability distribution of the next state. The snakes and ladders effect the transition probability by changing the \"potential next state\". For example, \n",
    "$$\n",
    "2 \\rightarrow (\\{3, {14}, 5, 6, 7, 8\\} \\rightarrow 1/6),\n",
    "$$\n",
    "instead of $2 \\rightarrow (\\{3, {4}, 5, 6, 7, 8\\} \\rightarrow 1/6)$."
   ]
  },
  {
   "cell_type": "markdown",
   "metadata": {},
   "source": [
    "#### Question 2\n"
   ]
  },
  {
   "cell_type": "code",
   "execution_count": 1,
   "metadata": {},
   "outputs": [],
   "source": [
    "from abc import ABC, abstractmethod\n",
    "import random\n",
    "import statistics\n",
    "import numpy as np\n",
    "import itertools\n",
    "from dataclasses import dataclass\n",
    "from typing import Generic, TypeVar, Optional, Mapping, Callable, Iterable, Sequence\n",
    "import matplotlib.pyplot as plt\n",
    "from distribution import Categorical, SampledDistribution, FiniteDistribution"
   ]
  },
  {
   "cell_type": "code",
   "execution_count": 2,
   "metadata": {},
   "outputs": [],
   "source": [
    "# Markov Process\n",
    "from abc import ABC, abstractmethod\n",
    "from __future__ import annotations\n",
    "\n",
    "S = TypeVar(\"S\")\n",
    "X = TypeVar(\"X\")\n",
    "\n",
    "class State(ABC, Generic[S]):\n",
    "    state: S\n",
    "    \n",
    "    def on_non_terminal(self, f: Callable[[NonTerminal[S]], X], default: X) -> X:\n",
    "        if isinstance(self, NonTerminal):\n",
    "            return f(self)\n",
    "        else:\n",
    "            return default\n",
    "\n",
    "@dataclass(frozen = True)\n",
    "class Terminal(State[S]):\n",
    "    state: S\n",
    "\n",
    "@dataclass(frozen = True)\n",
    "class NonTerminal(State[S]):\n",
    "    state: S\n",
    "\n",
    "class MarkovProcess(ABC, Generic[S]):\n",
    "    @abstractmethod\n",
    "    def transition(self, state: NonTerminal[S]):\n",
    "        pass\n",
    "    \n",
    "    def simulate(self, start_state_distribution) -> Iterable[State[S]]:\n",
    "        state: State[S] = start_state_distribution.sample()\n",
    "        yield state\n",
    "        \n",
    "        while isinstance(state, NonTerminal):\n",
    "            state = self.transition(state).sample()\n",
    "            yield state"
   ]
  },
  {
   "cell_type": "code",
   "execution_count": 302,
   "metadata": {},
   "outputs": [],
   "source": [
    "@dataclass(frozen = True)\n",
    "class GameState:\n",
    "    state: int\n",
    "\n",
    "class GameMPFinite():\n",
    "    \n",
    "    terminal_state: int\n",
    "    non_terminal_states_list: list\n",
    "    non_terminal_states: Sequence[GameState]\n",
    "    \n",
    "    def __init__(self, terminal_state: int):\n",
    "        self.terminal_state = terminal_state\n",
    "        transit = []\n",
    "        for i in range (self.terminal_state):\n",
    "            transit.append(i)\n",
    "        transit[1] = 38; transit[4] = 14; transit[9] = 31; transit[16] = 6; transit[21] = 42; transit[28] = 84;\n",
    "        transit[36] = 44; transit[47] = 26; transit[49] = 11; transit[51] = 67; transit[56] = 53; \n",
    "        transit[62] = 19; transit[64] = 60; transit[71] = 91; transit[80] = self.terminal_state;\n",
    "        transit[87] = 24; transit[93] = 73; transit[95] = 75; transit[98] = 78\n",
    "        self.transit = transit\n",
    "        self.non_terminal_states_list = list(set(transit))\n",
    "        self.non_terminal_states_list.remove(self.terminal_state)\n",
    "        length = len(self.non_terminal_states_list)\n",
    "        self.non_terminal_states = [GameState(self.non_terminal_states_list[i]) for i in range (length)]\n",
    "    \n",
    "    def transition_map(self):\n",
    "        d = {}  #distribution\n",
    "        for i in self.non_terminal_states_list:\n",
    "            state = GameState(i)\n",
    "            state_prob_map = {}\n",
    "            for j in range (6):\n",
    "                if i+j+1 < self.terminal_state:\n",
    "                    state_prob_map[GameState(self.transit[i+j+1])] = 1/6\n",
    "                else:\n",
    "                    state_prob_map[GameState(self.terminal_state)] = (6-j)/6\n",
    "                    break\n",
    "            d[GameState(i)] = Categorical(state_prob_map)\n",
    "        return d\n",
    "        \n",
    "    def transition(self, current_state):\n",
    "        return self.transition_map()[current_state]\n",
    "    \n",
    "    def simulation(self):\n",
    "        state = GameState(0)\n",
    "        trace = []\n",
    "        while state in self.non_terminal_states:\n",
    "            trace.append(state)  \n",
    "            outcome = list(self.transition(state).table())\n",
    "            weight = list(self.transition(state).table().values())\n",
    "            state = random.choices(outcome, weights=weight)[0]\n",
    "        return trace\n",
    "        \n",
    "    def time_step_distribution(self, num_simulation):\n",
    "        time_step = np.zeros(250)\n",
    "        for t in range (num_simulation):\n",
    "            step = len(self.simulation())\n",
    "            time_step[step] += 1\n",
    "        return time_step"
   ]
  },
  {
   "cell_type": "code",
   "execution_count": 303,
   "metadata": {},
   "outputs": [],
   "source": [
    "gameMP = GameMPFinite(100)\n",
    "time_step = gameMP.time_step_distribution(1000)"
   ]
  },
  {
   "cell_type": "code",
   "execution_count": 309,
   "metadata": {},
   "outputs": [
    {
     "data": {
      "text/plain": [
       "Text(0.5, 0, 'total time steps')"
      ]
     },
     "execution_count": 309,
     "metadata": {},
     "output_type": "execute_result"
    },
    {
     "data": {
      "image/png": "[encoded data removed]",
      "text/plain": [
       "<Figure size 432x288 with 1 Axes>"
      ]
     },
     "metadata": {
      "needs_background": "light"
     },
     "output_type": "display_data"
    }
   ],
   "source": [
    "#probability distribution of time steps to finish the game.\n",
    "plt.plot(time_step[:200]/1000)\n",
    "plt.ylabel(\"empirical distribution\")\n",
    "plt.xlabel(\"total time steps\")"
   ]
  },
  {
   "cell_type": "markdown",
   "metadata": {},
   "source": [
    "#### Question 3"
   ]
  },
  {
   "cell_type": "markdown",
   "metadata": {},
   "source": [
    "Suppose the minimum step size of the frog is a, and the maximum step size of the frog is b. We use $g(L)$ to denote the expected number of step the frog takes to cross a L-length river, i.e.\n",
    "$$\n",
    "g(L) = \\mathbb{E}(N ),\n",
    "$$\n",
    "where $N$ is the random step number. Denote $S_1$ to be the first step size of this frog, then we should have\n",
    "\\begin{align*}\n",
    "g(L) &= \\mathbb{E}(N | S_1 = a) \\cdot \\mathbb{P}(S_1=a) + \\mathbb{E}(N | S_1 = a+1) \\cdot \\mathbb{P}(S_1=a+1) + \\cdots + \\mathbb{E}(N | S_1 = b) \\cdot \\mathbb{P}(S_1=b) \\\\\n",
    "& = \\frac{1}{b-a+1}\\cdot \\big( g(L-a) + g(L-a-1)+\\cdots+g(L-b)\\big) + 1\n",
    "\\end{align*}\n",
    "when $L\\geq 1$. With boundary condition that\n",
    "$$\n",
    "g(L) = 0, \\ \\text{for}\\ L \\leq 0,\n",
    "$$\n",
    "we can easily solve $g(L)$ for any $L$ iteratively."
   ]
  },
  {
   "cell_type": "markdown",
   "metadata": {},
   "source": [
    "#### Question 4"
   ]
  },
  {
   "cell_type": "markdown",
   "metadata": {},
   "source": [
    "The reward should be the number of each dice roll. "
   ]
  },
  {
   "cell_type": "code",
   "execution_count": 322,
   "metadata": {},
   "outputs": [],
   "source": [
    "@dataclass(frozen = True)\n",
    "class GameState:\n",
    "    state: int\n",
    "\n",
    "class GameMPFinite():\n",
    "    \n",
    "    terminal_state: int\n",
    "    non_terminal_states_list: list\n",
    "    non_terminal_states: Sequence[GameState]\n",
    "    \n",
    "    def __init__(self, terminal_state: int):\n",
    "        self.terminal_state = terminal_state\n",
    "        transit = []\n",
    "        for i in range (self.terminal_state):\n",
    "            transit.append(i)\n",
    "        transit[1] = 38; transit[4] = 14; transit[9] = 31; transit[16] = 6; transit[21] = 42; transit[28] = 84;\n",
    "        transit[36] = 44; transit[47] = 26; transit[49] = 11; transit[51] = 67; transit[56] = 53; \n",
    "        transit[62] = 19; transit[64] = 60; transit[71] = 91; transit[80] = self.terminal_state;\n",
    "        transit[87] = 24; transit[93] = 73; transit[95] = 75; transit[98] = 78\n",
    "        self.transit = transit\n",
    "        self.non_terminal_states_list = list(set(transit))\n",
    "        self.non_terminal_states_list.remove(self.terminal_state)\n",
    "        length = len(self.non_terminal_states_list)\n",
    "        self.non_terminal_states = [GameState(self.non_terminal_states_list[i]) for i in range (length)]\n",
    "    \n",
    "    def transition_map(self):\n",
    "        d = {}  #distribution\n",
    "        for i in self.non_terminal_states_list:\n",
    "            state = GameState(i)\n",
    "            state_prob_map = {}\n",
    "            for j in range (6):\n",
    "                if i+j+1 < self.terminal_state:\n",
    "                    state_prob_map[GameState(self.transit[i+j+1])] = 1/6\n",
    "                else:\n",
    "                    state_prob_map[GameState(self.terminal_state)] = (6-j)/6\n",
    "                    break\n",
    "            d[GameState(i)] = Categorical(state_prob_map)\n",
    "        return d\n",
    "        \n",
    "    def transition(self, current_state):\n",
    "        return self.transition_map()[current_state]\n",
    "    \n",
    "    def simulation(self):\n",
    "        state = GameState(0)\n",
    "        trace = []\n",
    "        total_reward = 0;\n",
    "        while state in self.non_terminal_states:\n",
    "            trace.append(state)  \n",
    "            outcome = list(self.transition(state).table())\n",
    "            weight = list(self.transition(state).table().values())\n",
    "            state = random.choices(outcome, weights=weight)[0]\n",
    "            reward = outcome.index(state)\n",
    "            total_reward += reward\n",
    "        return total_reward\n",
    "    \n",
    "    def expected_reward(self, num_simulation):\n",
    "        expected_number = 0\n",
    "        for t in range (num_simulation):\n",
    "            expected_number += self.simulation()\n",
    "         \n",
    "        return expected_number / num_simulation\n",
    "        "
   ]
  },
  {
   "cell_type": "code",
   "execution_count": 324,
   "metadata": {},
   "outputs": [
    {
     "data": {
      "text/plain": [
       "84.63"
      ]
     },
     "execution_count": 324,
     "metadata": {},
     "output_type": "execute_result"
    }
   ],
   "source": [
    "gameMP = GameMPFinite(100)\n",
    "expected_number = gameMP.expected_reward(100)\n",
    "expected_number"
   ]
  },
  {
   "cell_type": "code",
   "execution_count": null,
   "metadata": {},
   "outputs": [],
   "source": []
  }
 ],
 "metadata": {
  "kernelspec": {
   "display_name": "Python 3",
   "language": "python",
   "name": "python3"
  },
  "language_info": {
   "codemirror_mode": {
    "name": "ipython",
    "version": 3
   },
   "file_extension": ".py",
   "mimetype": "text/x-python",
   "name": "python",
   "nbconvert_exporter": "python",
   "pygments_lexer": "ipython3",
   "version": "3.8.3"
  }
 },
 "nbformat": 4,
 "nbformat_minor": 4
}
