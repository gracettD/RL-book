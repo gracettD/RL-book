{
 "cells": [
  {
   "cell_type": "code",
   "execution_count": 109,
   "metadata": {},
   "outputs": [],
   "source": [
    "import numpy as np\n",
    "import matplotlib.pyplot as plt\n",
    "from policy import FinitePolicy\n",
    "from markov_decision_process import FiniteMarkovDecisionProcess\n",
    "from distribution import Categorical, SampledDistribution, FiniteDistribution\n",
    "from typing import (Callable, Dict, Generic, Iterator, Iterable,\n",
    "                    Mapping, Optional, Sequence, Tuple, TypeVar)"
   ]
  },
  {
   "cell_type": "code",
   "execution_count": 202,
   "metadata": {},
   "outputs": [],
   "source": [
    "# for simplicity, we let 0 denotes action A and 1 denotes action B\n",
    "# create 2^{n-1} policies\n",
    "n = 9; state_space = range(n+1); non_terminal_state_space = range(1,n)\n",
    "num_policy = 2**n\n",
    "\n",
    "def invert2(k,n):\n",
    "    b = np.zeros((n,1))\n",
    "    for i in range (n):\n",
    "        b[[n-i-1],0] = int(k%2)\n",
    "        k = k // 2\n",
    "    return b\n",
    "\n",
    "for k in range (num_policy):\n",
    "    policy_map[k] = {}\n",
    "    action = invert2(k,n)\n",
    "    for i in non_terminal_state_space:\n",
    "        state_prob_map = {}\n",
    "        state_prob_map[0] = int(action[[i],0])\n",
    "        state_prob_map[1] = int(1-action[[i],0])\n",
    "        policy_map[k][i] = Categorical(state_prob_map)"
   ]
  },
  {
   "cell_type": "code",
   "execution_count": 203,
   "metadata": {},
   "outputs": [],
   "source": [
    "Policy = FinitePolicy(policy_map[1])"
   ]
  },
  {
   "cell_type": "code",
   "execution_count": 204,
   "metadata": {},
   "outputs": [],
   "source": [
    "# create transition_reward map\n",
    "action_reward_map = {}\n",
    "for i in non_terminal_state_space:\n",
    "    transition_map = {}\n",
    "    # action A\n",
    "    state_prob_map = {}\n",
    "    if i-1 == 0:\n",
    "        state_prob_map[(i-1,-1)] = i/n\n",
    "        state_prob_map[(i+1,0)] = 1 - i/n\n",
    "    elif i+1 == n:\n",
    "        state_prob_map[(i-1,0)] = i/n\n",
    "        state_prob_map[(i+1,1)] = 1 - i/n\n",
    "    else:\n",
    "        state_prob_map[(i-1,0)] = i/n\n",
    "        state_prob_map[(i+1,0)] = 1 - i/n\n",
    "    transition_map[0] = Categorical(state_prob_map)\n",
    "    \n",
    "    # action B\n",
    "    state_prob_map = {}\n",
    "    for j in state_space:\n",
    "        if j != i:\n",
    "            if j == 0:\n",
    "                state_prob_map[(j,-1)] = 1/n\n",
    "            elif j == n:\n",
    "                state_prob_map[(j,1)] = 1/n\n",
    "            else:\n",
    "                state_prob_map[(j,0)] = 1/n\n",
    "    transition_map[1] = Categorical(state_prob_map)\n",
    "    action_reward_map[i] = transition_map"
   ]
  },
  {
   "cell_type": "code",
   "execution_count": 205,
   "metadata": {},
   "outputs": [],
   "source": [
    "# create a policy-implied Finite MRP for each of these deterministic policies\n",
    "MFP = FiniteMarkovDecisionProcess(action_reward_map)\n",
    "FMRP = MFP.apply_finite_policy(Policy)   # implied finite markov reward process\n",
    "gamma = 1\n",
    "value_of_fixed_policy = FMRP.get_value_function_vec(gamma)"
   ]
  },
  {
   "cell_type": "code",
   "execution_count": 206,
   "metadata": {},
   "outputs": [],
   "source": [
    "# Find the Optimal Value Function and the Optimal Deterministic Policy\n",
    "Value_whole = np.zeros((num_policy,len(non_terminal_state_space)))\n",
    "for k in range (num_policy):\n",
    "    Policy = FinitePolicy(policy_map[k])\n",
    "    FMRP = MFP.apply_finite_policy(Policy)\n",
    "    value_of_fixed_policy = FMRP.get_value_function_vec(1)\n",
    "    Value_whole[[k],:] = value_of_fixed_policy"
   ]
  },
  {
   "cell_type": "code",
   "execution_count": 207,
   "metadata": {},
   "outputs": [
    {
     "name": "stdout",
     "output_type": "stream",
     "text": [
      "optimal policy is:\n",
      "{1: {0: 0.0, 1: 1.0}, 2: {0: 1.0, 1: 0.0}, 3: {0: 1.0, 1: 0.0}, 4: {0: 1.0, 1: 0.0}, 5: {0: 1.0, 1: 0.0}, 6: {0: 1.0, 1: 0.0}, 7: {0: 1.0, 1: 0.0}, 8: {0: 1.0, 1: 0.0}}\n",
      "optimal value function is:\n",
      "[[0.35135135 0.41047297 0.42736486 0.43581081 0.44256757 0.45101351\n",
      "  0.46790541 0.52702703]]\n"
     ]
    }
   ],
   "source": [
    "loc = np.argmax(Value_whole.sum(axis=1))\n",
    "optimal_policy = policy_map[loc]\n",
    "print(\"optimal policy is:\")\n",
    "print(optimal_policy)\n",
    "optimal_value_function = Value_whole[[loc],:]\n",
    "print(\"optimal value function is:\")\n",
    "print(optimal_value_function)"
   ]
  },
  {
   "cell_type": "code",
   "execution_count": 159,
   "metadata": {},
   "outputs": [],
   "source": [
    "#plot a graph of the Optimal Escape-Probability and of the associated Optimal Croak"
   ]
  },
  {
   "cell_type": "markdown",
   "metadata": {},
   "source": [
    "Since V(s) = Prob(escape|s) - Prob(eatten|s), and Prob(escape|s) + Prob(eatten|s) = 1, we have Prob(escape|s) = (1+V(s))/2"
   ]
  },
  {
   "cell_type": "code",
   "execution_count": 193,
   "metadata": {},
   "outputs": [
    {
     "data": {
      "text/plain": [
       "(0.0, 1.0)"
      ]
     },
     "execution_count": 193,
     "metadata": {},
     "output_type": "execute_result"
    },
    {
     "data": {
      "image/png": "[encoded data removed]",
      "text/plain": [
       "<Figure size 432x288 with 1 Axes>"
      ]
     },
     "metadata": {
      "needs_background": "light"
     },
     "output_type": "display_data"
    }
   ],
   "source": [
    "# n = 3\n",
    "prob_escape_3 = ((1+optimal_value_function)/2).T\n",
    "optimal_croak_3 = [1,0]\n",
    "plt.scatter(list(non_terminal_state_space),prob_escape_3.tolist(), marker=\"o\", color='orange')\n",
    "plt.scatter(list(non_terminal_state_space),optimal_croak_3, marker=\"*\", color='b')\n",
    "plt.xlabel(\"state\")\n",
    "plt.legend([\"escape probability\", \"optimal policy\"])\n",
    "plt.xlim([0,n])\n",
    "plt.ylim([0,1])"
   ]
  },
  {
   "cell_type": "code",
   "execution_count": 201,
   "metadata": {},
   "outputs": [
    {
     "data": {
      "text/plain": [
       "(0.0, 1.0)"
      ]
     },
     "execution_count": 201,
     "metadata": {},
     "output_type": "execute_result"
    },
    {
     "data": {
      "image/png": "[encoded data removed]",
      "text/plain": [
       "<Figure size 432x288 with 1 Axes>"
      ]
     },
     "metadata": {
      "needs_background": "light"
     },
     "output_type": "display_data"
    }
   ],
   "source": [
    "# n = 6\n",
    "prob_escape_6 = ((1+optimal_value_function)/2).T\n",
    "optimal_croak_6 = [1,0,0,0,0]\n",
    "plt.scatter(list(non_terminal_state_space),prob_escape_6.tolist(), marker=\"o\", color='orange')\n",
    "plt.scatter(list(non_terminal_state_space),optimal_croak_6, marker=\"*\", color='b')\n",
    "plt.xlabel(\"state\")\n",
    "plt.legend([\"escape probability\", \"optimal policy\"])\n",
    "plt.xlim([0,n])\n",
    "plt.ylim([0,1])"
   ]
  },
  {
   "cell_type": "code",
   "execution_count": 210,
   "metadata": {},
   "outputs": [
    {
     "data": {
      "text/plain": [
       "(0.0, 1.0)"
      ]
     },
     "execution_count": 210,
     "metadata": {},
     "output_type": "execute_result"
    },
    {
     "data": {
      "image/png": "[encoded data removed]",
      "text/plain": [
       "<Figure size 432x288 with 1 Axes>"
      ]
     },
     "metadata": {
      "needs_background": "light"
     },
     "output_type": "display_data"
    }
   ],
   "source": [
    "# n = 9\n",
    "prob_escape_9 = ((1+optimal_value_function)/2).T\n",
    "optimal_croak_9 = [1,0,0,0,0,0,0,0]\n",
    "plt.scatter(list(non_terminal_state_space),prob_escape_9.tolist(), marker=\"o\", color='orange')\n",
    "plt.scatter(list(non_terminal_state_space),optimal_croak_9, marker=\"*\", color='b')\n",
    "plt.xlabel(\"state\")\n",
    "plt.legend([\"escape probability\", \"optimal policy\"])\n",
    "plt.xlim([0,n])\n",
    "plt.ylim([0,1])"
   ]
  },
  {
   "cell_type": "code",
   "execution_count": null,
   "metadata": {},
   "outputs": [],
   "source": []
  }
 ],
 "metadata": {
  "kernelspec": {
   "display_name": "Python 3",
   "language": "python",
   "name": "python3"
  },
  "language_info": {
   "codemirror_mode": {
    "name": "ipython",
    "version": 3
   },
   "file_extension": ".py",
   "mimetype": "text/x-python",
   "name": "python",
   "nbconvert_exporter": "python",
   "pygments_lexer": "ipython3",
   "version": "3.8.3"
  }
 },
 "nbformat": 4,
 "nbformat_minor": 4
}
