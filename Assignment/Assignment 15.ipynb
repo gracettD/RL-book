{
 "cells": [
  {
   "cell_type": "code",
   "execution_count": 48,
   "metadata": {},
   "outputs": [],
   "source": [
    "from typing import Sequence, Tuple, Mapping\n",
    "import numpy as np\n",
    "from numpy.random import randint\n",
    "\n",
    "S = str\n",
    "DataType = Sequence[Sequence[Tuple[S, float]]]\n",
    "ProbFunc = Mapping[S, Mapping[S, float]]\n",
    "RewardFunc = Mapping[S, float]\n",
    "ValueFunc = Mapping[S, float]"
   ]
  },
  {
   "cell_type": "code",
   "execution_count": 6,
   "metadata": {},
   "outputs": [],
   "source": [
    "def get_state_return_samples(\n",
    "    data: DataType\n",
    ") -> Sequence[Tuple[S, float]]:\n",
    "    \"\"\"\n",
    "    prepare sequence of (state, return) pairs.\n",
    "    Note: (state, return) pairs is not same as (state, reward) pairs.\n",
    "    \"\"\"\n",
    "    return [(s, sum(r for (_, r) in l[i:]))\n",
    "            for l in data for i, (s, _) in enumerate(l)]\n",
    "\n",
    "\n",
    "def get_mc_value_function(\n",
    "    state_return_samples: Sequence[Tuple[S, float]]\n",
    ") -> ValueFunc:\n",
    "    \"\"\"\n",
    "    Implement tabular MC Value Function compatible with the interface defined above.\n",
    "    \"\"\"\n",
    "    V = {key[0]:0.0 for key in state_return_samples}; \n",
    "    count = {key[0]:0 for key in state_return_samples};\n",
    "    for pair in state_return_samples:\n",
    "        state, return_ = pair\n",
    "        V[state] += return_; count[state] += 1 \n",
    "    for state in V.keys():\n",
    "        V[state] = V[state] / count[state]\n",
    "    return V"
   ]
  },
  {
   "cell_type": "code",
   "execution_count": 7,
   "metadata": {},
   "outputs": [
    {
     "name": "stdout",
     "output_type": "stream",
     "text": [
      "------------- MONTE CARLO VALUE FUNCTION --------------\n",
      "{'A': 9.571428571428571, 'B': 5.642857142857143}\n"
     ]
    }
   ],
   "source": [
    "if __name__ == '__main__':\n",
    "    given_data: DataType = [\n",
    "        [('A', 2.), ('A', 6.), ('B', 1.), ('B', 2.)],\n",
    "        [('A', 3.), ('B', 2.), ('A', 4.), ('B', 2.), ('B', 0.)],\n",
    "        [('B', 3.), ('B', 6.), ('A', 1.), ('B', 1.)],\n",
    "        [('A', 0.), ('B', 2.), ('A', 4.), ('B', 4.), ('B', 2.), ('B', 3.)],\n",
    "        [('B', 8.), ('B', 2.)]\n",
    "    ]\n",
    "\n",
    "    sr_samps = get_state_return_samples(given_data)\n",
    "\n",
    "    print(\"------------- MONTE CARLO VALUE FUNCTION --------------\")\n",
    "    print(get_mc_value_function(sr_samps))"
   ]
  },
  {
   "cell_type": "code",
   "execution_count": 44,
   "metadata": {},
   "outputs": [],
   "source": [
    "def get_state_reward_next_state_samples(\n",
    "    data: DataType\n",
    ") -> Sequence[Tuple[S, float, S]]:\n",
    "    \"\"\"\n",
    "    prepare sequence of (state, reward, next_state) triples.\n",
    "    \"\"\"\n",
    "    return [(s, r, l[i+1][0] if i < len(l) - 1 else 'T')\n",
    "            for l in data for i, (s, r) in enumerate(l)]\n",
    "\n",
    "\n",
    "def get_probability_and_reward_functions(\n",
    "    srs_samples: Sequence[Tuple[S, float, S]]\n",
    ") -> Tuple[ProbFunc, RewardFunc]:\n",
    "    \"\"\"\n",
    "    Implement code that produces the probability transitions and the\n",
    "    reward function compatible with the interface defined above.\n",
    "    \"\"\"\n",
    "    count = {key[0]: {key1[2]: 0 for key1 in srs_samples} for key in srs_samples}\n",
    "    reward = {key[0]: 0.0 for key in srs_samples}\n",
    "    for pair in srs_samples:\n",
    "        state, reward_, next_state = pair\n",
    "        count[state][next_state] += 1\n",
    "        reward[state] += reward_        \n",
    "    for key in count:\n",
    "        total_count = 0\n",
    "        for key1 in count[key]:\n",
    "            total_count += count[key][key1]\n",
    "        for key1 in count[key]:\n",
    "            count[key][key1] = count[key][key1] / total_count\n",
    "        reward[key] = reward[key] / total_count    \n",
    "    return count, reward\n",
    "\n",
    "\n",
    "def get_mrp_value_function(\n",
    "    prob_func: ProbFunc,\n",
    "    reward_func: RewardFunc\n",
    ") -> ValueFunc:\n",
    "    \"\"\"\n",
    "    Implement code that calculates the MRP Value Function from the probability\n",
    "    transitions and reward function, compatible with the interface defined above.\n",
    "    Hint: Use the MRP Bellman Equation and simple linear algebra\n",
    "    \"\"\"\n",
    "    state_list = list(reward_func.keys())\n",
    "    reward_vec = np.array([reward_func[state] for state in state_list])\n",
    "    P = np.zeros((len(state_list), len(state_list)))\n",
    "    i = 0; \n",
    "    for state1 in state_list:\n",
    "        j = 0\n",
    "        for state2 in state_list:\n",
    "            P[i][j] = prob_func[state1][state2]\n",
    "            j += 1\n",
    "        i += 1\n",
    "    V = np.linalg.inv(np.eye(len(state_list)) - P) .dot(reward_vec)\n",
    "    return V"
   ]
  },
  {
   "cell_type": "code",
   "execution_count": 45,
   "metadata": {},
   "outputs": [
    {
     "name": "stdout",
     "output_type": "stream",
     "text": [
      "-------------- MRP VALUE FUNCTION ----------\n",
      "[12.93333333  9.6       ]\n"
     ]
    }
   ],
   "source": [
    "srs_samps = get_state_reward_next_state_samples(given_data)\n",
    "pfunc, rfunc = get_probability_and_reward_functions(srs_samps)\n",
    "print(\"-------------- MRP VALUE FUNCTION ----------\")\n",
    "print(get_mrp_value_function(pfunc, rfunc))"
   ]
  },
  {
   "cell_type": "code",
   "execution_count": 115,
   "metadata": {},
   "outputs": [],
   "source": [
    "def get_td_value_function(\n",
    "    srs_samples: Sequence[Tuple[S, float, S]],\n",
    "    num_updates: int = 300000,\n",
    "    learning_rate: float = 0.3,\n",
    "    learning_rate_decay: int = 30\n",
    ") -> ValueFunc:\n",
    "    \"\"\"\n",
    "    Implement tabular TD(0) (with experience replay) Value Function compatible\n",
    "    with the interface defined above. Let the step size (alpha) be:\n",
    "    learning_rate * (updates / learning_rate_decay + 1) ** -0.5\n",
    "    so that Robbins-Monro condition is satisfied for the sequence of step sizes.\n",
    "    \"\"\"\n",
    "    sample_num = len(srs_samples)\n",
    "    V = {s[0]: [0.0] for s in srs_samples}\n",
    "    for i in range (num_updates):\n",
    "        state, reward, next_state = srs_samples[randint(sample_num, size=1)[0]]\n",
    "        alpha = learning_rate * ((i+1) / learning_rate_decay + 1) ** (-0.5)\n",
    "        if next_state != 'T':\n",
    "            V[state].append(V[state][-1] + alpha * (reward + V[next_state][-1] - V[state][-1]))\n",
    "        else:\n",
    "            V[state].append(V[state][-1] + alpha * (reward - V[state][-1]))\n",
    "    return {s: np.mean(v[-int(num_updates * 0.9):]) for s, v in V.items()}"
   ]
  },
  {
   "cell_type": "code",
   "execution_count": 116,
   "metadata": {},
   "outputs": [
    {
     "name": "stdout",
     "output_type": "stream",
     "text": [
      "------------- TD VALUE FUNCTION --------------\n",
      "{'A': 12.956945160966981, 'B': 9.625251336084178}\n"
     ]
    }
   ],
   "source": [
    "print(\"------------- TD VALUE FUNCTION --------------\")\n",
    "print(get_td_value_function(srs_samps))"
   ]
  },
  {
   "cell_type": "code",
   "execution_count": 141,
   "metadata": {},
   "outputs": [],
   "source": [
    "def get_lstd_value_function(\n",
    "    srs_samples: Sequence[Tuple[S, float, S]]\n",
    ") -> ValueFunc:\n",
    "    \"\"\"\n",
    "    Implement LSTD Value Function compatible with the interface defined above.\n",
    "    Hint: Tabular is a special case of linear function approx where each feature\n",
    "    is an indicator variables for a corresponding state and each parameter is\n",
    "    the value function for the corresponding state.\n",
    "    \"\"\"\n",
    "    sample_num = len(srs_samples)\n",
    "    nt_state = list(set(s[0] for s in srs_samples))\n",
    "    num_state = len(nt_state)\n",
    "    A = np.zeros((num_state, num_state))\n",
    "    b = np.zeros((num_state, 1))\n",
    "    for i in range (sample_num):\n",
    "        state, reward, next_state = srs_samples[i]\n",
    "        A[nt_state.index(state), nt_state.index(state)] += 1\n",
    "        if next_state != \"T\":\n",
    "            A[nt_state.index(state), nt_state.index(next_state)] -= 1\n",
    "        b[nt_state.index(state)] += reward\n",
    "    return {nt_state[i]: v for i, v in enumerate(np.linalg.inv(A).dot(b))}"
   ]
  },
  {
   "cell_type": "code",
   "execution_count": 142,
   "metadata": {},
   "outputs": [
    {
     "name": "stdout",
     "output_type": "stream",
     "text": [
      "------------- LSTD VALUE FUNCTION --------------\n",
      "{'B': array([9.6]), 'A': array([12.93333333])}\n"
     ]
    }
   ],
   "source": [
    "print(\"------------- LSTD VALUE FUNCTION --------------\")\n",
    "print(get_lstd_value_function(srs_samps))"
   ]
  }
 ],
 "metadata": {
  "kernelspec": {
   "display_name": "Python 3",
   "language": "python",
   "name": "python3"
  },
  "language_info": {
   "codemirror_mode": {
    "name": "ipython",
    "version": 3
   },
   "file_extension": ".py",
   "mimetype": "text/x-python",
   "name": "python",
   "nbconvert_exporter": "python",
   "pygments_lexer": "ipython3",
   "version": "3.8.3"
  }
 },
 "nbformat": 4,
 "nbformat_minor": 4
}
