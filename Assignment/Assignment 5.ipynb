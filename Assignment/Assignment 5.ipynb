{
 "cells": [
  {
   "cell_type": "markdown",
   "metadata": {},
   "source": [
    "### B-spline implementation"
   ]
  },
  {
   "cell_type": "markdown",
   "metadata": {},
   "source": [
    "Any spline function of order $n$ on a given set of knots can be expressed as a linear combination of B-splines:\n",
    "$$\n",
    "S_{p,n}(x) = \\sum_{i=0}^n \\alpha_i B_{i,p}(x)\n",
    "$$\n",
    "Expressions for the B-spline can be iteratively written as\n",
    "$$\n",
    "B_{i,0}(x)  = \\left\\{\\begin{matrix} 1 & \\text{if} \\  t_i \\leq x < t_{i+1} \\\\ 0 & \\text{otherwise} \\end{matrix}  \\right.\n",
    "$$\n",
    "and\n",
    "$$\n",
    "B_{i,k}(x) = \\frac{x-t_i}{t_{i+k}-t_i}B_{i,k-1}(x) + \\frac{t_{i+k+1}-x}{t_{i+k+1}-t_{i+1}} B_{i+1,k-1}(x)\n",
    "$$"
   ]
  },
  {
   "cell_type": "code",
   "execution_count": 33,
   "metadata": {},
   "outputs": [],
   "source": [
    "import numpy as np\n",
    "\n",
    "def SplineApprox(p: int, n:int , alpha: np.ndarray, x: float)-> float:\n",
    "    t = np.zeros((n+p+2,1))\n",
    "    B = np.zeros((n+p+1,p+1))\n",
    "    for i in range (n+p+2):\n",
    "        t[i] = i/(n+p+1)\n",
    "    for i in range (n+p+1):\n",
    "        if x >= t[i] and x < t[i+1]:\n",
    "            B[i,0] = 1\n",
    "    flag = 0\n",
    "    for j in range (1, p+1):\n",
    "        for i in range (n+p-flag):\n",
    "            B[i,j] = (x-t[i])/(t[i+j]-t[i]) * B[i,j-1] + (t[i+j+1]-x)/(t[i+j+1]-t[i+1]) * B[i+1,j-1]\n",
    "        flag = flag + 1\n",
    "    \n",
    "    # approximation\n",
    "    S = alpha.dot(B[0:n,p])\n",
    "    return S\n",
    "    "
   ]
  },
  {
   "cell_type": "code",
   "execution_count": 35,
   "metadata": {},
   "outputs": [
    {
     "data": {
      "text/plain": [
       "2.3800000000000003"
      ]
     },
     "execution_count": 35,
     "metadata": {},
     "output_type": "execute_result"
    }
   ],
   "source": [
    "SplineApprox(2, 3, np.array([1,2,3]), 0.6)"
   ]
  },
  {
   "cell_type": "code",
   "execution_count": null,
   "metadata": {},
   "outputs": [],
   "source": []
  }
 ],
 "metadata": {
  "kernelspec": {
   "display_name": "Python 3",
   "language": "python",
   "name": "python3"
  },
  "language_info": {
   "codemirror_mode": {
    "name": "ipython",
    "version": 3
   },
   "file_extension": ".py",
   "mimetype": "text/x-python",
   "name": "python",
   "nbconvert_exporter": "python",
   "pygments_lexer": "ipython3",
   "version": "3.8.3"
  }
 },
 "nbformat": 4,
 "nbformat_minor": 4
}
